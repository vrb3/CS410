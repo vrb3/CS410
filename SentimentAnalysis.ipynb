{
 "cells": [
  {
   "cell_type": "markdown",
   "metadata": {},
   "source": [
    "# Conducting Sentiment Analysis:"
   ]
  },
  {
   "cell_type": "markdown",
   "metadata": {},
   "source": [
    "Input: Text of company's Management Discussion and Analysis (MD&A) section from Form 10-Q and 10-K. \n",
    "Output: Sentiment classified as either Positive or Negative along with the Sentiment confidence score in percentage\n",
    "\n",
    "Code is written in Python and uses following libraries:\n",
    "\n",
    "* PANDAS\n",
    "* NLTK\n",
    "* SKLEARN\n",
    "* RANDOM\n",
    "* STATISTICS\n",
    "* PICKLE\n",
    "\n",
    "Inaddition to above, it uses following files:\n",
    "\n",
    "    * lemur-stopwords.txt:File containing STOP words\n",
    "    * clasfuncdef.py:     Contains some of the custom functions and classes\n",
    "    * Negative terms.csv: Training file of Negative terms denoting Negative Sentiment\n",
    "    * Positive Terms.csv: Training file of Positive terms denoting Positive Sentiment\n",
    "    * TestNegative.txt:   Sample 10-K input file denoting Negative Sentiment. \n",
    "    * TestPositive.txt:   Sample 10-K input file denoting Positive Sentiment. \n",
    "    \n",
    "This report shall evaluate Sentiment accuracy using following classifiers and then use the classifier with highest accuracy percentage to evaluate the 10-K input.\n",
    "\n",
    "    * Naive Bayes Classifier\n",
    "    * MultinomialNB Classifier\n",
    "    * BernoulliNB Classifier\n",
    "    * Logistic Regression Classifier\n",
    "    * SGD Classifier\n",
    "    * LinerSVC Classifier\n",
    "\n",
    "This sentiment analysis report shall use file \"lemur-stopwords.txt\" to ignore the most common words. It also uses Lemmatizer. It is similar to a stemmer however, the output shall be a proper word from english dictionary. \n",
    "\n",
    "Concept of pickling has been used. Once the classifer's are trained to a desired accuracy, this program gives an option to save it under folder named \"pickle\". All subsequent execution of the report shall used the saved classifiers instead of evaluating them again. This shall help reduce the report execution time significantly. \n",
    "Note: If we want to the report to re-evaluate without using the pickle concept, the files in the folder \"pickle\" needs to be deleted. Only if the file does not exist, system shall evaluate and save."
   ]
  },
  {
   "cell_type": "code",
   "execution_count": 1,
   "metadata": {},
   "outputs": [],
   "source": [
    "import pandas as pd\n",
    "import random\n",
    "import clasfuncdef as cfd\n",
    "import nltk\n",
    "import pickle\n",
    "from statistics import mode\n",
    "from nltk.tokenize import word_tokenize\n",
    "from nltk.classify.scikitlearn import SklearnClassifier\n",
    "from sklearn.naive_bayes import MultinomialNB,BernoulliNB\n",
    "from sklearn.linear_model import LogisticRegression,SGDClassifier\n",
    "from sklearn.svm import SVC, LinearSVC, NuSVC\n",
    "\n",
    "exist_NB_classifier = ''\n",
    "exist_MNB_classifier = ''\n",
    "exist_BNB_classifier = ''\n",
    "exist_LR_classifier  = ''\n",
    "exist_SGD_classifier = ''\n",
    "exist_LSVC_classifier = ''\n",
    "exist_selected_classifier = ''"
   ]
  },
  {
   "cell_type": "code",
   "execution_count": 2,
   "metadata": {},
   "outputs": [
    {
     "name": "stdout",
     "output_type": "stream",
     "text": [
      "Importing Positive Terms..\n",
      "Import Positive Terms complete !!\n",
      "\n",
      "Importing Negative Terms..\n",
      "Import Negative Terms complete !!\n",
      "\n",
      "Importing Comments whose sentiment shall be analysed..\n",
      "\n",
      "Enter TestPositive.txt to analyse a Positive sample\n",
      "Enter TestNegative.txt to analyse a Negative sample\n",
      "\n",
      "Enter file name to analyze the sentiment: TestNew.txt\n",
      "File name to be read is: TestNew.txt\n"
     ]
    }
   ],
   "source": [
    "print(\"Importing Positive Terms..\")\n",
    "positive_terms = open(\"Positive Terms.csv\",\"r\").read()\n",
    "print(\"Import Positive Terms complete !!\")\n",
    "\n",
    "print(\"\")\n",
    "print(\"Importing Negative Terms..\")\n",
    "negative_terms = open(\"Negative Terms.csv\",\"r\").read()\n",
    "print(\"Import Negative Terms complete !!\")\n",
    "print(\"\")\n",
    "\n",
    "# fname = 'TestPositive.txt'\n",
    "# fname = 'TestNegative.txt'\n",
    "\n",
    "print(\"Importing Comments whose sentiment shall be analysed..\")\n",
    "print(\"\")\n",
    "print(\"Enter TestPositive.txt to analyse a Positive sample\")\n",
    "print(\"Enter TestNegative.txt to analyse a Negative sample\")\n",
    "print(\"\")\n",
    "\n",
    "fname = input(\"Enter file name to analyze the sentiment: \")\n",
    "\n",
    "print('File name to be read is:', fname)\n",
    "\n",
    "try:\n",
    "    src_comments = open(fname,\"r\").read()\n",
    "except Exception as e:\n",
    "    print('Unable to read the file !!')\n",
    "    exit()"
   ]
  },
  {
   "cell_type": "markdown",
   "metadata": {},
   "source": [
    "Build Vocabulary and collect sample Positive, Negative terms:\n",
    "\n",
    "It uses find_features function defined in the file clasfuncdef.py\n",
    "This function:\n",
    "* uses Lemmatizer instead of Stemming. This helps build tokens which are proper words.\n",
    "* Uses the lemur-stopwords.txt file to remove the stop words.\n",
    "* Builds the featureset to be used in the classifer.\n",
    "\n",
    "Below is a snapshot of the function. \n",
    "def find_features(features_list, term):\n",
    "\n",
    "    lemmatizer = WordNetLemmatizer()\n",
    "    str = lemmatizer.lemmatize(term)\n",
    "    words = word_tokenize(str)\n",
    "    stop_words = open(\"lemur-stopwords.txt\",\"r\").read()\n",
    "    filtered_sentence = [w for w in words if not w in stop_words]\n",
    "\n",
    "    features = {}\n",
    "    for w in features_list:\n",
    "        features[w] = (w in filtered_sentence)\n",
    "\n",
    "    return features"
   ]
  },
  {
   "cell_type": "code",
   "execution_count": 3,
   "metadata": {},
   "outputs": [
    {
     "name": "stdout",
     "output_type": "stream",
     "text": [
      "Building FeatureSet..\n",
      "FeatureSet determination complete !!\n"
     ]
    }
   ],
   "source": [
    "print('Building FeatureSet..')\n",
    "terms_collection = []\n",
    "vocabulary = []\n",
    "\n",
    "for r in positive_terms.split('\\n'):\n",
    "    terms_collection.append( (r, \"positive\") )\n",
    "    vocabulary.append(r.lower())\n",
    "\n",
    "for r in negative_terms.split('\\n'):\n",
    "    terms_collection.append( (r, \"negative\") )\n",
    "    vocabulary.append(r.lower())\n",
    "\n",
    "vocabulary = nltk.FreqDist(vocabulary)\n",
    "features_list = list(vocabulary.keys())\n",
    "featuresets = [(cfd.find_features(features_list, trm), category) for (trm, category) in terms_collection]\n",
    "random.shuffle(featuresets)\n",
    "\n",
    "print('FeatureSet determination complete !!')"
   ]
  },
  {
   "cell_type": "markdown",
   "metadata": {},
   "source": [
    "Split data into Training and Test. This shall be used in the classifer evalation. Classifers are trained using Train method and then tested for accuracy. "
   ]
  },
  {
   "cell_type": "code",
   "execution_count": 4,
   "metadata": {},
   "outputs": [],
   "source": [
    "set_training = featuresets[:50]\n",
    "set_testing =  featuresets[50:]"
   ]
  },
  {
   "cell_type": "markdown",
   "metadata": {},
   "source": [
    "Evaluate Naive Bayes Classifier (Read the Classifier from the Pickle folder if available):"
   ]
  },
  {
   "cell_type": "code",
   "execution_count": 5,
   "metadata": {},
   "outputs": [
    {
     "name": "stdout",
     "output_type": "stream",
     "text": [
      "File read from Pickle\n",
      "Naive Bayes classifier accuracy %age: 60.71428571428571\n",
      "\n"
     ]
    }
   ],
   "source": [
    "# NB_classifier = nltk.NaiveBayesClassifier.train(set_training)\n",
    "try:\n",
    "    open_file = open(\"pickle/save_NB_classifier.pickle\", \"rb\")\n",
    "    NB_classifier = pickle.load(open_file)\n",
    "    open_file.close()\n",
    "    exist_NB_classifier = 'X'\n",
    "    print('File read from Pickle')\n",
    "except Exception as e:\n",
    "    print(e)\n",
    "    NB_classifier = nltk.NaiveBayesClassifier.train(set_training)\n",
    "    print('Saved classifier could not be found. It was evaluated')\n",
    "    \n",
    "print(\"Naive Bayes classifier accuracy %age:\", (nltk.classify.accuracy(NB_classifier, set_testing))*100)\n",
    "print('')"
   ]
  },
  {
   "cell_type": "markdown",
   "metadata": {},
   "source": [
    "Evaluate MultinomialNB Classifier (Read the Classifier from the Pickle folder if available):"
   ]
  },
  {
   "cell_type": "code",
   "execution_count": 6,
   "metadata": {},
   "outputs": [
    {
     "name": "stdout",
     "output_type": "stream",
     "text": [
      "File read from Pickle\n",
      "MultinomialNB classifier accuracy %age: 66.07142857142857\n",
      "\n"
     ]
    }
   ],
   "source": [
    "# MNB_classifier = SklearnClassifier(MultinomialNB())\n",
    "# MNB_classifier.train(set_training)\n",
    "try:\n",
    "    open_file = open(\"pickle/save_MNB_classifier.pickle\", \"rb\")\n",
    "    MNB_classifier = pickle.load(open_file)\n",
    "    open_file.close()\n",
    "    exist_MNB_classifier = 'X'\n",
    "    print('File read from Pickle')\n",
    "except Exception as e:\n",
    "    MNB_classifier = SklearnClassifier(MultinomialNB())\n",
    "    MNB_classifier.train(set_training)\n",
    "    print('Saved classifier could not be found. It was evaluated')\n",
    "    \n",
    "print(\"MultinomialNB classifier accuracy %age:\", (nltk.classify.accuracy(MNB_classifier, set_testing))*100)\n",
    "print('')"
   ]
  },
  {
   "cell_type": "markdown",
   "metadata": {},
   "source": [
    "Evaluate BernoulliNB Classifier:"
   ]
  },
  {
   "cell_type": "code",
   "execution_count": 7,
   "metadata": {},
   "outputs": [
    {
     "name": "stdout",
     "output_type": "stream",
     "text": [
      "File read from Pickle\n",
      "BernoulliNB classifier accuracy %age: 66.07142857142857\n",
      "\n"
     ]
    }
   ],
   "source": [
    "# BernoulliNB_classifier = SklearnClassifier(BernoulliNB())\n",
    "# BernoulliNB_classifier.train(set_training)\n",
    "\n",
    "try:\n",
    "    open_file = open(\"pickle/save_BernoulliNB_classifier.pickle\", \"rb\")\n",
    "    BernoulliNB_classifier = pickle.load(open_file)\n",
    "    open_file.close()\n",
    "    exist_BNB_classifier = 'X'\n",
    "    print('File read from Pickle')\n",
    "except Exception as e:\n",
    "    BernoulliNB_classifier = SklearnClassifier(BernoulliNB())\n",
    "    BernoulliNB_classifier.train(set_training)\n",
    "    print('Saved classifier could not be found. It was evaluated')\n",
    "          \n",
    "print(\"BernoulliNB classifier accuracy %age:\", (nltk.classify.accuracy(BernoulliNB_classifier, set_testing))*100)\n",
    "print('')"
   ]
  },
  {
   "cell_type": "markdown",
   "metadata": {},
   "source": [
    "Evaluate Logistic Regression Classifier:"
   ]
  },
  {
   "cell_type": "code",
   "execution_count": 8,
   "metadata": {},
   "outputs": [
    {
     "name": "stdout",
     "output_type": "stream",
     "text": [
      "Saved classifier could not be found. It was evaluated\n",
      "LogisticRegression classifier accuracy %age: 60.71428571428571\n",
      "\n"
     ]
    }
   ],
   "source": [
    "try:\n",
    "    open_file = open(\"save_LogisticRegression_classifier.pickle\", \"rb\")\n",
    "    LogisticRegression_classifier = pickle.load(open_file)\n",
    "    open_file.close()\n",
    "    exist_LR_classifier = 'X'\n",
    "    print('File read from Pickle')\n",
    "except Exception as e:\n",
    "    LogisticRegression_classifier = SklearnClassifier(LogisticRegression())\n",
    "    LogisticRegression_classifier.train(set_training)\n",
    "    print('Saved classifier could not be found. It was evaluated')\n",
    "\n",
    "print(\"LogisticRegression classifier accuracy %age:\", (nltk.classify.accuracy(LogisticRegression_classifier, set_testing))*100)\n",
    "print('')"
   ]
  },
  {
   "cell_type": "markdown",
   "metadata": {},
   "source": [
    "Evaluate SGD Classifier:"
   ]
  },
  {
   "cell_type": "code",
   "execution_count": 9,
   "metadata": {},
   "outputs": [
    {
     "name": "stdout",
     "output_type": "stream",
     "text": [
      "Saved classifier could not be found. It was evaluated\n",
      "SGD classifier accuracy %age: 60.71428571428571\n",
      "\n"
     ]
    }
   ],
   "source": [
    "try:\n",
    "    open_file = open(\"save_SGDClassifier_classifier.pickle\", \"rb\")\n",
    "    SGDClassifier_classifier = pickle.load(open_file)\n",
    "    open_file.close()\n",
    "    exist_SGD_classifier = 'X'\n",
    "    print('File read from Pickle')\n",
    "except Exception as e:\n",
    "    SGDClassifier_classifier = SklearnClassifier(SGDClassifier(max_iter=5, tol=None))\n",
    "    SGDClassifier_classifier.train(set_training)\n",
    "    print('Saved classifier could not be found. It was evaluated')\n",
    "\n",
    "\n",
    "print(\"SGD classifier accuracy %age:\", (nltk.classify.accuracy(SGDClassifier_classifier, set_testing))*100)\n",
    "print('')"
   ]
  },
  {
   "cell_type": "markdown",
   "metadata": {},
   "source": [
    "Evaluate LinearSVC Classifier"
   ]
  },
  {
   "cell_type": "code",
   "execution_count": 10,
   "metadata": {},
   "outputs": [
    {
     "name": "stdout",
     "output_type": "stream",
     "text": [
      "Saved classifier could not be found. It was evaluated\n",
      "LinearSVC classifier accuracy %age: 60.71428571428571\n",
      "\n"
     ]
    }
   ],
   "source": [
    "try:\n",
    "    open_file = open(\"save_LinearSVC_classifier.pickle\", \"rb\")\n",
    "    LinearSVC_classifier = pickle.load(open_file)\n",
    "    open_file.close()\n",
    "    exist_LSVC_classifier = 'X'\n",
    "    print('File read from Pickle')\n",
    "except Exception as e:\n",
    "    LinearSVC_classifier = SklearnClassifier(LinearSVC())\n",
    "    LinearSVC_classifier.train(set_training)\n",
    "    print('Saved classifier could not be found. It was evaluated')\n",
    "\n",
    "\n",
    "print(\"LinearSVC classifier accuracy %age:\", (nltk.classify.accuracy(LinearSVC_classifier, set_testing))*100)\n",
    "print('')"
   ]
  },
  {
   "cell_type": "markdown",
   "metadata": {},
   "source": [
    "Compare the Classifiers and select the classifier with highest accuracy:\n",
    "selectclassifier is defined in the file clasfuncdef.py\n",
    "Below is a snapshot of the code:\n",
    "\n",
    "Mode functionality returns an error whenever two classifiers return the same accuracy percentage. Inorder to overcome this issue, I have defined the custom find_max_mode  function.\n",
    "\n",
    "def find_max_mode(list1):\n",
    "    list_table = statistics._counts(list1)\n",
    "    len_table = len(list_table)\n",
    "\n",
    "    if len_table == 1:\n",
    "        max_mode = statistics.mode(list1)\n",
    "    else:\n",
    "        new_list = []\n",
    "        for i in range(len_table):\n",
    "            new_list.append(list_table[i][0])\n",
    "        max_mode = max(new_list)\n",
    "    return max_mode\n",
    "\n",
    "class selectClassifier(ClassifierI):\n",
    "    def __init__(self, *classifiers):\n",
    "        self._classifiers = classifiers\n",
    "\n",
    "    def classify(self, features):\n",
    "        votes = []\n",
    "        for x in self._classifiers:\n",
    "            v = x.classify(features)\n",
    "            votes.append(v)\n",
    "        return find_max_mode(votes)\n",
    "\n",
    "    def confidence(self, features):\n",
    "        votes = []\n",
    "        for x in self._classifiers:\n",
    "            v = x.classify(features)\n",
    "            votes.append(v)\n",
    "\n",
    "        choice_votes = votes.count(find_max_mode(votes))\n",
    "        conf = choice_votes / len(votes)\n",
    "        return conf"
   ]
  },
  {
   "cell_type": "code",
   "execution_count": 11,
   "metadata": {},
   "outputs": [
    {
     "name": "stdout",
     "output_type": "stream",
     "text": [
      "Saved classifier could not be found. It was evaluated\n",
      "Selected Classifier accuracy %age: 60.71428571428571\n",
      "\n"
     ]
    }
   ],
   "source": [
    "try:\n",
    "    open_file = open(\"save_selected_classifier.pickle\", \"rb\")\n",
    "    selected_classifier = pickle.load(open_file)\n",
    "    open_file.close()\n",
    "    exist_selected_classifier = 'X'\n",
    "    print('File read from Pickle')\n",
    "except Exception as e:\n",
    "    selected_classifier = cfd.selectClassifier(\n",
    "                                  LinearSVC_classifier,\n",
    "                                  MNB_classifier,\n",
    "                                  BernoulliNB_classifier,\n",
    "                                  LogisticRegression_classifier)\n",
    "    print('Saved classifier could not be found. It was evaluated')\n",
    "\n",
    "print(\"Selected Classifier accuracy %age:\", (nltk.classify.accuracy(selected_classifier, set_testing))*100)\n",
    "print('')"
   ]
  },
  {
   "cell_type": "markdown",
   "metadata": {},
   "source": [
    "Save the trained classifiers in folder \"PICKLE\". This will help us avoid train the classifiers everytime we want to conduct sentiment analysis. It will help speed up the execution time. Here, system shall prompt user if they want to SAVE the data. If selected Yes, data shall be saved and any subsequent sentiment analysis shall be using the stored data rather than evaluating it again. "
   ]
  },
  {
   "cell_type": "code",
   "execution_count": 12,
   "metadata": {},
   "outputs": [
    {
     "name": "stdout",
     "output_type": "stream",
     "text": [
      "Enter Yes to SAVE the trained datano\n"
     ]
    }
   ],
   "source": [
    "save_data = input('Enter Yes to SAVE the trained data')\n",
    "\n",
    "if save_data.upper() == 'YES':\n",
    "    print('Saving the data... Please wait !!')\n",
    "    \n",
    "    save_terms_collection = open(\"pickle/terms_collection.pickle\",\"wb\")\n",
    "    pickle.dump(terms_collection, save_terms_collection)\n",
    "    save_terms_collection.close()\n",
    "    \n",
    "    save_features_list = open(\"pickle/features_list.pickle\",\"wb\")\n",
    "    pickle.dump(features_list, save_features_list)\n",
    "    save_features_list.close()\n",
    "    \n",
    "    if exist_NB_classifier == '':\n",
    "        save_NB_classifier = open(\"pickle/save_NB_classifier.pickle\",\"wb\")\n",
    "        pickle.dump(NB_classifier, save_NB_classifier)\n",
    "        save_NB_classifier.close()\n",
    "    \n",
    "    if exist_MNB_classifier == '':\n",
    "        save_MNB_classifier = open(\"pickle/save_MNB_classifier.pickle\",\"wb\")\n",
    "        pickle.dump(MNB_classifier, save_MNB_classifier)\n",
    "        save_MNB_classifier.close() \n",
    "    \n",
    "    if exist_BNB_classifier == '':\n",
    "        save_BernoulliNB_classifier = open(\"pickle/save_BernoulliNB_classifier.pickle\",\"wb\")\n",
    "        pickle.dump(BernoulliNB_classifier, save_BernoulliNB_classifier)\n",
    "        save_BernoulliNB_classifier.close()\n",
    "    \n",
    "    if exist_LR_classifier == '':\n",
    "        save_LogisticRegression_classifier = open(\"pickle/save_LogisticRegression_classifier.pickle\",\"wb\")\n",
    "        pickle.dump(LogisticRegression_classifier, save_LogisticRegression_classifier)\n",
    "        save_LogisticRegression_classifier.close()    \n",
    "    \n",
    "    if exist_SGD_classifier == '':\n",
    "        save_SGDClassifier_classifier = open(\"pickle/save_SGDClassifier_classifier.pickle\",\"wb\")\n",
    "        pickle.dump(SGDClassifier_classifier, save_SGDClassifier_classifier)\n",
    "        save_SGDClassifier_classifier.close()\n",
    "    \n",
    "    if exist_LSVC_classifier == '':\n",
    "        save_LinearSVC_classifier = open(\"pickle/save_LinearSVC_classifier.pickle\",\"wb\")\n",
    "        pickle.dump(LinearSVC_classifier, save_LinearSVC_classifier)\n",
    "        save_LinearSVC_classifier.close()     \n",
    "    \n",
    "    if exist_selected_classifier == '':\n",
    "        save_selected_classifier = open(\"pickle/save_selected_classifier.pickle\",\"wb\")\n",
    "        pickle.dump(selected_classifier, save_selected_classifier)\n",
    "        save_selected_classifier.close()    \n",
    "    \n",
    "    print('Saving data complete !!')"
   ]
  },
  {
   "cell_type": "markdown",
   "metadata": {},
   "source": [
    "Now the Classifer is ready to evaluate the 10-K file. We will re-use the find features function defined above on the 10-K file to get the featureset."
   ]
  },
  {
   "cell_type": "code",
   "execution_count": 13,
   "metadata": {},
   "outputs": [
    {
     "name": "stdout",
     "output_type": "stream",
     "text": [
      "\n"
     ]
    }
   ],
   "source": [
    "features_src_comments = cfd.find_features(features_list,src_comments)\n",
    "print('')"
   ]
  },
  {
   "cell_type": "markdown",
   "metadata": {},
   "source": [
    "Evaluate the Sentiment (Positive/Negative) and the confidence score (in percentage)"
   ]
  },
  {
   "cell_type": "code",
   "execution_count": 14,
   "metadata": {},
   "outputs": [
    {
     "name": "stdout",
     "output_type": "stream",
     "text": [
      "Sentiment:  NEGATIVE\n",
      "Sentiment Confidence:  100.0  %age\n"
     ]
    }
   ],
   "source": [
    "print('Sentiment: ', selected_classifier.classify(features_src_comments).upper())\n",
    "print('Sentiment Confidence: ', selected_classifier.confidence(features_src_comments)*100, ' %age')"
   ]
  },
  {
   "cell_type": "code",
   "execution_count": null,
   "metadata": {},
   "outputs": [],
   "source": []
  }
 ],
 "metadata": {
  "kernelspec": {
   "display_name": "Python 3",
   "language": "python",
   "name": "python3"
  },
  "language_info": {
   "codemirror_mode": {
    "name": "ipython",
    "version": 3
   },
   "file_extension": ".py",
   "mimetype": "text/x-python",
   "name": "python",
   "nbconvert_exporter": "python",
   "pygments_lexer": "ipython3",
   "version": "3.7.0"
  }
 },
 "nbformat": 4,
 "nbformat_minor": 2
}
